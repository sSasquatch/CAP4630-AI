{
  "nbformat": 4,
  "nbformat_minor": 0,
  "metadata": {
    "colab": {
      "name": "HW2Problem2.ipynb",
      "provenance": []
    },
    "kernelspec": {
      "name": "python3",
      "display_name": "Python 3"
    }
  },
  "cells": [
    {
      "cell_type": "markdown",
      "metadata": {
        "id": "KM0DW5n37bEk",
        "colab_type": "text"
      },
      "source": [
        "Loading the MNIST Fashion Data Set"
      ]
    },
    {
      "cell_type": "code",
      "metadata": {
        "id": "PIJKfaQU6ioV",
        "colab_type": "code",
        "colab": {
          "base_uri": "https://localhost:8080/",
          "height": 236
        },
        "outputId": "7ab57922-92cf-4517-ae60-c231464c2cdd"
      },
      "source": [
        "import tensorflow as tf\n",
        "from tensorflow import keras\n",
        "\n",
        "fashion_mnist = keras.datasets.fashion_mnist\n",
        "\n",
        "(train_images, train_labels), (test_images, test_labels) = fashion_mnist.load_data()"
      ],
      "execution_count": 1,
      "outputs": [
        {
          "output_type": "display_data",
          "data": {
            "text/html": [
              "<p style=\"color: red;\">\n",
              "The default version of TensorFlow in Colab will soon switch to TensorFlow 2.x.<br>\n",
              "We recommend you <a href=\"https://www.tensorflow.org/guide/migrate\" target=\"_blank\">upgrade</a> now \n",
              "or ensure your notebook will continue to use TensorFlow 1.x via the <code>%tensorflow_version 1.x</code> magic:\n",
              "<a href=\"https://colab.research.google.com/notebooks/tensorflow_version.ipynb\" target=\"_blank\">more info</a>.</p>\n"
            ],
            "text/plain": [
              "<IPython.core.display.HTML object>"
            ]
          },
          "metadata": {
            "tags": []
          }
        },
        {
          "output_type": "stream",
          "text": [
            "Downloading data from https://storage.googleapis.com/tensorflow/tf-keras-datasets/train-labels-idx1-ubyte.gz\n",
            "32768/29515 [=================================] - 0s 0us/step\n",
            "Downloading data from https://storage.googleapis.com/tensorflow/tf-keras-datasets/train-images-idx3-ubyte.gz\n",
            "26427392/26421880 [==============================] - 0s 0us/step\n",
            "Downloading data from https://storage.googleapis.com/tensorflow/tf-keras-datasets/t10k-labels-idx1-ubyte.gz\n",
            "8192/5148 [===============================================] - 0s 0us/step\n",
            "Downloading data from https://storage.googleapis.com/tensorflow/tf-keras-datasets/t10k-images-idx3-ubyte.gz\n",
            "4423680/4422102 [==============================] - 0s 0us/step\n"
          ],
          "name": "stdout"
        }
      ]
    },
    {
      "cell_type": "markdown",
      "metadata": {
        "id": "2c6EyB4o7f_B",
        "colab_type": "text"
      },
      "source": [
        "Exploring the Format of the MNIST Fashion Data Set"
      ]
    },
    {
      "cell_type": "code",
      "metadata": {
        "id": "2NbEouwO637-",
        "colab_type": "code",
        "colab": {
          "base_uri": "https://localhost:8080/",
          "height": 34
        },
        "outputId": "ebcd32a1-befc-4fea-811f-a23b26a659b9"
      },
      "source": [
        "train_images.shape"
      ],
      "execution_count": 2,
      "outputs": [
        {
          "output_type": "execute_result",
          "data": {
            "text/plain": [
              "(60000, 28, 28)"
            ]
          },
          "metadata": {
            "tags": []
          },
          "execution_count": 2
        }
      ]
    },
    {
      "cell_type": "code",
      "metadata": {
        "id": "TiDXP1u5640o",
        "colab_type": "code",
        "colab": {
          "base_uri": "https://localhost:8080/",
          "height": 34
        },
        "outputId": "1f7b40e2-9df8-4f79-9a48-2a7d131c25c8"
      },
      "source": [
        "len(train_images)"
      ],
      "execution_count": 3,
      "outputs": [
        {
          "output_type": "execute_result",
          "data": {
            "text/plain": [
              "60000"
            ]
          },
          "metadata": {
            "tags": []
          },
          "execution_count": 3
        }
      ]
    },
    {
      "cell_type": "code",
      "metadata": {
        "id": "4W9-c6Lf65gJ",
        "colab_type": "code",
        "colab": {
          "base_uri": "https://localhost:8080/",
          "height": 34
        },
        "outputId": "fa05689c-12b1-4b13-e8b8-585a2ba7e8c7"
      },
      "source": [
        "train_images.ndim"
      ],
      "execution_count": 4,
      "outputs": [
        {
          "output_type": "execute_result",
          "data": {
            "text/plain": [
              "3"
            ]
          },
          "metadata": {
            "tags": []
          },
          "execution_count": 4
        }
      ]
    },
    {
      "cell_type": "code",
      "metadata": {
        "id": "R9WJ8g6t66H_",
        "colab_type": "code",
        "colab": {
          "base_uri": "https://localhost:8080/",
          "height": 34
        },
        "outputId": "a8699ac5-fb64-4081-e6f3-d34856a80f3d"
      },
      "source": [
        "train_images.dtype"
      ],
      "execution_count": 5,
      "outputs": [
        {
          "output_type": "execute_result",
          "data": {
            "text/plain": [
              "dtype('uint8')"
            ]
          },
          "metadata": {
            "tags": []
          },
          "execution_count": 5
        }
      ]
    },
    {
      "cell_type": "code",
      "metadata": {
        "id": "2IFWLRY2666I",
        "colab_type": "code",
        "colab": {
          "base_uri": "https://localhost:8080/",
          "height": 34
        },
        "outputId": "54007722-b88f-474d-fd6e-2f3e5d404e2f"
      },
      "source": [
        "train_labels"
      ],
      "execution_count": 6,
      "outputs": [
        {
          "output_type": "execute_result",
          "data": {
            "text/plain": [
              "array([9, 0, 0, ..., 3, 0, 5], dtype=uint8)"
            ]
          },
          "metadata": {
            "tags": []
          },
          "execution_count": 6
        }
      ]
    },
    {
      "cell_type": "code",
      "metadata": {
        "id": "Gs_H5Y0x670A",
        "colab_type": "code",
        "colab": {
          "base_uri": "https://localhost:8080/",
          "height": 34
        },
        "outputId": "6b53e8e8-ce4f-4f25-d1fc-44fe284d7c23"
      },
      "source": [
        "len(train_labels)"
      ],
      "execution_count": 7,
      "outputs": [
        {
          "output_type": "execute_result",
          "data": {
            "text/plain": [
              "60000"
            ]
          },
          "metadata": {
            "tags": []
          },
          "execution_count": 7
        }
      ]
    },
    {
      "cell_type": "code",
      "metadata": {
        "id": "CslYeABz68lJ",
        "colab_type": "code",
        "colab": {}
      },
      "source": [
        "class_names = ['T-shirt/top', 'Trouser', 'Pullover', 'Dress', 'Coat',\n",
        "               'Sandal', 'Shirt', 'Sneaker', 'Bag', 'Ankle boot']"
      ],
      "execution_count": 0,
      "outputs": []
    },
    {
      "cell_type": "markdown",
      "metadata": {
        "id": "niBcLzl67jv7",
        "colab_type": "text"
      },
      "source": [
        "Displaying Some MNIST Fashion Items"
      ]
    },
    {
      "cell_type": "code",
      "metadata": {
        "id": "wx2NxLsO69mY",
        "colab_type": "code",
        "colab": {}
      },
      "source": [
        "import matplotlib.pyplot as plt\n",
        "import numpy as np"
      ],
      "execution_count": 0,
      "outputs": []
    },
    {
      "cell_type": "code",
      "metadata": {
        "id": "bIDRNm8_6-VW",
        "colab_type": "code",
        "colab": {
          "base_uri": "https://localhost:8080/",
          "height": 589
        },
        "outputId": "de7e7349-1a9c-4a26-92eb-7a65312bb0a5"
      },
      "source": [
        "plt.figure(figsize=(10,10))\n",
        "indices = np.random.choice(np.arange(60000), size=25, replace=False)\n",
        "for i in range(25):\n",
        "    plt.subplot(5,5,i+1)\n",
        "    plt.xticks([])\n",
        "    plt.yticks([])\n",
        "    plt.grid(False)\n",
        "    plt.imshow(train_images[i], cmap=plt.cm.binary)\n",
        "    plt.xlabel(class_names[train_labels[i]])\n",
        "plt.show()"
      ],
      "execution_count": 10,
      "outputs": [
        {
          "output_type": "display_data",
          "data": {
            "image/png": "[encoded data removed]",
            "text/plain": [
              "<Figure size 720x720 with 25 Axes>"
            ]
          },
          "metadata": {
            "tags": []
          }
        }
      ]
    },
    {
      "cell_type": "code",
      "metadata": {
        "id": "MA470TS96_UP",
        "colab_type": "code",
        "colab": {
          "base_uri": "https://localhost:8080/",
          "height": 265
        },
        "outputId": "43bcf575-86aa-443b-ffc9-2c5a360504a6"
      },
      "source": [
        "plt.figure()\n",
        "plt.imshow(train_images[0])\n",
        "plt.colorbar()\n",
        "plt.grid(False)\n",
        "plt.show()"
      ],
      "execution_count": 11,
      "outputs": [
        {
          "output_type": "display_data",
          "data": {
            "image/png": "[encoded data removed]",
            "text/plain": [
              "<Figure size 432x288 with 2 Axes>"
            ]
          },
          "metadata": {
            "tags": []
          }
        }
      ]
    },
    {
      "cell_type": "markdown",
      "metadata": {
        "id": "Gp_IAyt27Rlk",
        "colab_type": "text"
      },
      "source": [
        "Preprocess the Data"
      ]
    },
    {
      "cell_type": "code",
      "metadata": {
        "id": "jjrNVYng7A2B",
        "colab_type": "code",
        "colab": {}
      },
      "source": [
        "train_images = train_images / 255.0\n",
        "test_images = test_images / 255.0"
      ],
      "execution_count": 0,
      "outputs": []
    },
    {
      "cell_type": "markdown",
      "metadata": {
        "id": "3mtr4B5V8pct",
        "colab_type": "text"
      },
      "source": [
        "Underfit Model"
      ]
    },
    {
      "cell_type": "markdown",
      "metadata": {
        "id": "aVDQMWML812r",
        "colab_type": "text"
      },
      "source": [
        "Build the Model"
      ]
    },
    {
      "cell_type": "code",
      "metadata": {
        "id": "wC3Rh0rr7nlt",
        "colab_type": "code",
        "colab": {
          "base_uri": "https://localhost:8080/",
          "height": 836
        },
        "outputId": "38db989e-2e8d-4993-8f32-e240130b5e45"
      },
      "source": [
        "# set up the layers\n",
        "\n",
        "model = keras.Sequential([\n",
        "    keras.layers.Flatten(input_shape=(28, 28)),\n",
        "    keras.layers.Dense(10, activation='linear')\n",
        "])\n",
        "\n",
        "# compile the model\n",
        "\n",
        "model.compile(optimizer='adam',\n",
        "             loss='sparse_categorical_crossentropy',\n",
        "             metrics=['accuracy'])\n",
        "\n",
        "# train the model\n",
        "epochs = 20\n",
        "history = model.fit(train_images, \n",
        "                      train_labels, \n",
        "                      epochs=epochs,  \n",
        "                      validation_data=(test_images, test_labels))"
      ],
      "execution_count": 13,
      "outputs": [
        {
          "output_type": "stream",
          "text": [
            "WARNING:tensorflow:From /usr/local/lib/python3.6/dist-packages/tensorflow_core/python/ops/resource_variable_ops.py:1630: calling BaseResourceVariable.__init__ (from tensorflow.python.ops.resource_variable_ops) with constraint is deprecated and will be removed in a future version.\n",
            "Instructions for updating:\n",
            "If using Keras pass *_constraint arguments to layers.\n",
            "WARNING:tensorflow:From /usr/local/lib/python3.6/dist-packages/tensorflow_core/python/ops/math_grad.py:1424: where (from tensorflow.python.ops.array_ops) is deprecated and will be removed in a future version.\n",
            "Instructions for updating:\n",
            "Use tf.where in 2.0, which has the same broadcast rule as np.where\n",
            "Train on 60000 samples, validate on 10000 samples\n",
            "Epoch 1/20\n",
            "60000/60000 [==============================] - 3s 54us/sample - loss: 2.3249 - acc: 0.1423 - val_loss: 2.2867 - val_acc: 0.1520\n",
            "Epoch 2/20\n",
            "60000/60000 [==============================] - 3s 47us/sample - loss: 2.2867 - acc: 0.1514 - val_loss: 2.2892 - val_acc: 0.1419\n",
            "Epoch 3/20\n",
            "60000/60000 [==============================] - 3s 47us/sample - loss: 2.2889 - acc: 0.1406 - val_loss: 2.2844 - val_acc: 0.1466\n",
            "Epoch 4/20\n",
            "60000/60000 [==============================] - 3s 47us/sample - loss: 2.2855 - acc: 0.1384 - val_loss: 2.2717 - val_acc: 0.1498\n",
            "Epoch 5/20\n",
            "60000/60000 [==============================] - 3s 47us/sample - loss: 2.2816 - acc: 0.1397 - val_loss: 2.2784 - val_acc: 0.1428\n",
            "Epoch 6/20\n",
            "60000/60000 [==============================] - 3s 47us/sample - loss: 2.2735 - acc: 0.1354 - val_loss: 2.2692 - val_acc: 0.1340\n",
            "Epoch 7/20\n",
            "60000/60000 [==============================] - 3s 47us/sample - loss: 2.2712 - acc: 0.1312 - val_loss: 2.2662 - val_acc: 0.1352\n",
            "Epoch 8/20\n",
            "60000/60000 [==============================] - 3s 47us/sample - loss: 2.2687 - acc: 0.1326 - val_loss: 2.2625 - val_acc: 0.1368\n",
            "Epoch 9/20\n",
            "60000/60000 [==============================] - 3s 48us/sample - loss: 2.2664 - acc: 0.1331 - val_loss: 2.2756 - val_acc: 0.1251\n",
            "Epoch 10/20\n",
            "60000/60000 [==============================] - 3s 49us/sample - loss: 2.2765 - acc: 0.1238 - val_loss: 2.2706 - val_acc: 0.1280\n",
            "Epoch 11/20\n",
            "60000/60000 [==============================] - 3s 48us/sample - loss: 2.2717 - acc: 0.1262 - val_loss: 2.2694 - val_acc: 0.1285\n",
            "Epoch 12/20\n",
            "60000/60000 [==============================] - 3s 49us/sample - loss: 2.2740 - acc: 0.1253 - val_loss: 2.2710 - val_acc: 0.1258\n",
            "Epoch 13/20\n",
            "60000/60000 [==============================] - 3s 47us/sample - loss: 2.2701 - acc: 0.1261 - val_loss: 2.2630 - val_acc: 0.1306\n",
            "Epoch 14/20\n",
            "60000/60000 [==============================] - 3s 47us/sample - loss: 2.2722 - acc: 0.1266 - val_loss: 2.2830 - val_acc: 0.1202\n",
            "Epoch 15/20\n",
            "60000/60000 [==============================] - 3s 47us/sample - loss: 2.2821 - acc: 0.1215 - val_loss: 2.2786 - val_acc: 0.1231\n",
            "Epoch 16/20\n",
            "60000/60000 [==============================] - 3s 48us/sample - loss: 2.2751 - acc: 0.1256 - val_loss: 2.2722 - val_acc: 0.1280\n",
            "Epoch 17/20\n",
            "60000/60000 [==============================] - 3s 48us/sample - loss: 2.2832 - acc: 0.1207 - val_loss: 2.2989 - val_acc: 0.1114\n",
            "Epoch 18/20\n",
            "60000/60000 [==============================] - 3s 46us/sample - loss: 2.2994 - acc: 0.1121 - val_loss: 2.2989 - val_acc: 0.1122\n",
            "Epoch 19/20\n",
            "60000/60000 [==============================] - 3s 47us/sample - loss: 2.2954 - acc: 0.1134 - val_loss: 2.2940 - val_acc: 0.1119\n",
            "Epoch 20/20\n",
            "60000/60000 [==============================] - 3s 47us/sample - loss: 2.2909 - acc: 0.1118 - val_loss: 2.2869 - val_acc: 0.1155\n"
          ],
          "name": "stdout"
        }
      ]
    },
    {
      "cell_type": "markdown",
      "metadata": {
        "id": "iGJqdZRC9J7C",
        "colab_type": "text"
      },
      "source": [
        "Evaluate Accuracy"
      ]
    },
    {
      "cell_type": "code",
      "metadata": {
        "id": "sjGvoojK9IOY",
        "colab_type": "code",
        "colab": {
          "base_uri": "https://localhost:8080/",
          "height": 51
        },
        "outputId": "40042f19-c793-4cfc-8f91-2415d5dff62f"
      },
      "source": [
        "test_loss, test_acc = model.evaluate(test_images, test_labels)\n",
        "\n",
        "print('Test accuracy:', test_acc)"
      ],
      "execution_count": 14,
      "outputs": [
        {
          "output_type": "stream",
          "text": [
            "10000/10000 [==============================] - 0s 22us/sample - loss: 2.2869 - acc: 0.1155\n",
            "Test accuracy: 0.1155\n"
          ],
          "name": "stdout"
        }
      ]
    },
    {
      "cell_type": "markdown",
      "metadata": {
        "id": "F-oYunrm9OuX",
        "colab_type": "text"
      },
      "source": [
        "Training/Test Loss/Accuracy During Training"
      ]
    },
    {
      "cell_type": "code",
      "metadata": {
        "id": "mP7NJljx9Och",
        "colab_type": "code",
        "colab": {}
      },
      "source": [
        "history_dict = history.history\n",
        "loss_values = history_dict['loss']\n",
        "test_loss_values = history_dict['val_loss']\n",
        "epochs_range = range(1, epochs+1)"
      ],
      "execution_count": 0,
      "outputs": []
    },
    {
      "cell_type": "code",
      "metadata": {
        "id": "ftomEPuR9TeD",
        "colab_type": "code",
        "colab": {
          "base_uri": "https://localhost:8080/",
          "height": 295
        },
        "outputId": "d40ebd9d-9ba2-49e5-de08-d7577e4e87ee"
      },
      "source": [
        "plt.plot(epochs_range, loss_values, 'bo', label='Training loss')\n",
        "plt.plot(epochs_range, test_loss_values, 'ro', label='Test loss')\n",
        "plt.title('Training and test loss')\n",
        "plt.xlabel('Epochs')\n",
        "plt.ylabel('Loss')\n",
        "plt.legend()\n",
        "plt.show()"
      ],
      "execution_count": 16,
      "outputs": [
        {
          "output_type": "display_data",
          "data": {
            "image/png": "[encoded data removed]",
            "text/plain": [
              "<Figure size 432x288 with 1 Axes>"
            ]
          },
          "metadata": {
            "tags": []
          }
        }
      ]
    },
    {
      "cell_type": "code",
      "metadata": {
        "id": "_EQ9bxrh9VGj",
        "colab_type": "code",
        "colab": {}
      },
      "source": [
        "acc_values = history_dict['acc']\n",
        "test_acc_values = history_dict['val_acc']"
      ],
      "execution_count": 0,
      "outputs": []
    },
    {
      "cell_type": "code",
      "metadata": {
        "id": "6RpF9a0Z9WYe",
        "colab_type": "code",
        "colab": {
          "base_uri": "https://localhost:8080/",
          "height": 295
        },
        "outputId": "8183d8fc-3b49-4075-916e-888ea365a651"
      },
      "source": [
        "plt.plot(epochs_range, acc_values, 'bo', label='Training accuracy')\n",
        "plt.plot(epochs_range, test_acc_values, 'ro', label='Test accuracy')\n",
        "plt.title('Training and test accuracy')\n",
        "plt.xlabel('Epochs')\n",
        "plt.ylabel('Accuracy')\n",
        "plt.legend()\n",
        "plt.show()"
      ],
      "execution_count": 18,
      "outputs": [
        {
          "output_type": "display_data",
          "data": {
            "image/png": "[encoded data removed]",
            "text/plain": [
              "<Figure size 432x288 with 1 Axes>"
            ]
          },
          "metadata": {
            "tags": []
          }
        }
      ]
    },
    {
      "cell_type": "markdown",
      "metadata": {
        "id": "NDFYSoMy8uDh",
        "colab_type": "text"
      },
      "source": [
        "Overfit Model"
      ]
    },
    {
      "cell_type": "markdown",
      "metadata": {
        "id": "QBjkU881_CxM",
        "colab_type": "text"
      },
      "source": [
        "Build the Model"
      ]
    },
    {
      "cell_type": "code",
      "metadata": {
        "id": "Z5ZSG0VK_Cfg",
        "colab_type": "code",
        "colab": {
          "base_uri": "https://localhost:8080/",
          "height": 734
        },
        "outputId": "0fe3d8e5-ed11-40ba-8ab5-17ad23669e8b"
      },
      "source": [
        "# set up the layers\n",
        "\n",
        "model = keras.Sequential([\n",
        "    keras.layers.Flatten(input_shape=(28, 28)),\n",
        "    keras.layers.Dense(256, activation=tf.nn.relu),\n",
        "    keras.layers.Dense(10, activation=tf.nn.softmax)\n",
        "])\n",
        "\n",
        "# compile the model\n",
        "\n",
        "model.compile(optimizer='adam',\n",
        "             loss='sparse_categorical_crossentropy',\n",
        "             metrics=['accuracy'])\n",
        "\n",
        "# train the model\n",
        "epochs = 20\n",
        "history = model.fit(train_images, \n",
        "                      train_labels, \n",
        "                      epochs=epochs,  \n",
        "                      validation_data=(test_images, test_labels))"
      ],
      "execution_count": 19,
      "outputs": [
        {
          "output_type": "stream",
          "text": [
            "Train on 60000 samples, validate on 10000 samples\n",
            "Epoch 1/20\n",
            "60000/60000 [==============================] - 6s 101us/sample - loss: 0.4866 - acc: 0.8267 - val_loss: 0.4314 - val_acc: 0.8475\n",
            "Epoch 2/20\n",
            "60000/60000 [==============================] - 6s 95us/sample - loss: 0.3639 - acc: 0.8677 - val_loss: 0.3840 - val_acc: 0.8601\n",
            "Epoch 3/20\n",
            "60000/60000 [==============================] - 6s 95us/sample - loss: 0.3268 - acc: 0.8795 - val_loss: 0.3429 - val_acc: 0.8748\n",
            "Epoch 4/20\n",
            "60000/60000 [==============================] - 6s 94us/sample - loss: 0.3039 - acc: 0.8876 - val_loss: 0.3516 - val_acc: 0.8741\n",
            "Epoch 5/20\n",
            "60000/60000 [==============================] - 6s 96us/sample - loss: 0.2861 - acc: 0.8940 - val_loss: 0.3403 - val_acc: 0.8760\n",
            "Epoch 6/20\n",
            "60000/60000 [==============================] - 6s 94us/sample - loss: 0.2693 - acc: 0.8995 - val_loss: 0.3220 - val_acc: 0.8848\n",
            "Epoch 7/20\n",
            "60000/60000 [==============================] - 6s 95us/sample - loss: 0.2569 - acc: 0.9041 - val_loss: 0.3376 - val_acc: 0.8788\n",
            "Epoch 8/20\n",
            "60000/60000 [==============================] - 6s 98us/sample - loss: 0.2463 - acc: 0.9074 - val_loss: 0.3401 - val_acc: 0.8822\n",
            "Epoch 9/20\n",
            "60000/60000 [==============================] - 6s 100us/sample - loss: 0.2377 - acc: 0.9112 - val_loss: 0.3222 - val_acc: 0.8889\n",
            "Epoch 10/20\n",
            "60000/60000 [==============================] - 6s 104us/sample - loss: 0.2284 - acc: 0.9134 - val_loss: 0.3333 - val_acc: 0.8835\n",
            "Epoch 11/20\n",
            "60000/60000 [==============================] - 6s 105us/sample - loss: 0.2198 - acc: 0.9169 - val_loss: 0.3274 - val_acc: 0.8911\n",
            "Epoch 12/20\n",
            "60000/60000 [==============================] - 6s 102us/sample - loss: 0.2120 - acc: 0.9210 - val_loss: 0.3257 - val_acc: 0.8881\n",
            "Epoch 13/20\n",
            "60000/60000 [==============================] - 6s 97us/sample - loss: 0.2066 - acc: 0.9220 - val_loss: 0.3214 - val_acc: 0.8934\n",
            "Epoch 14/20\n",
            "60000/60000 [==============================] - 6s 100us/sample - loss: 0.1969 - acc: 0.9257 - val_loss: 0.3296 - val_acc: 0.8908\n",
            "Epoch 15/20\n",
            "60000/60000 [==============================] - 6s 103us/sample - loss: 0.1908 - acc: 0.9291 - val_loss: 0.3224 - val_acc: 0.8900\n",
            "Epoch 16/20\n",
            "60000/60000 [==============================] - 6s 96us/sample - loss: 0.1841 - acc: 0.9305 - val_loss: 0.3492 - val_acc: 0.8880\n",
            "Epoch 17/20\n",
            "60000/60000 [==============================] - 6s 95us/sample - loss: 0.1802 - acc: 0.9325 - val_loss: 0.3518 - val_acc: 0.8908\n",
            "Epoch 18/20\n",
            "60000/60000 [==============================] - 6s 97us/sample - loss: 0.1727 - acc: 0.9352 - val_loss: 0.3475 - val_acc: 0.8940\n",
            "Epoch 19/20\n",
            "60000/60000 [==============================] - 6s 92us/sample - loss: 0.1689 - acc: 0.9365 - val_loss: 0.3617 - val_acc: 0.8920\n",
            "Epoch 20/20\n",
            "60000/60000 [==============================] - 6s 95us/sample - loss: 0.1631 - acc: 0.9380 - val_loss: 0.3774 - val_acc: 0.8821\n"
          ],
          "name": "stdout"
        }
      ]
    },
    {
      "cell_type": "markdown",
      "metadata": {
        "id": "1DUOvVnQ_GJw",
        "colab_type": "text"
      },
      "source": [
        "Evaluate Accuracy"
      ]
    },
    {
      "cell_type": "code",
      "metadata": {
        "id": "C_DnZILq_IZk",
        "colab_type": "code",
        "colab": {
          "base_uri": "https://localhost:8080/",
          "height": 51
        },
        "outputId": "d995125d-fcb0-4e08-8a43-2e3a21823d72"
      },
      "source": [
        "test_loss, test_acc = model.evaluate(test_images, test_labels)\n",
        "\n",
        "print('Test accuracy:', test_acc)"
      ],
      "execution_count": 20,
      "outputs": [
        {
          "output_type": "stream",
          "text": [
            "10000/10000 [==============================] - 0s 40us/sample - loss: 0.3774 - acc: 0.8821\n",
            "Test accuracy: 0.8821\n"
          ],
          "name": "stdout"
        }
      ]
    },
    {
      "cell_type": "markdown",
      "metadata": {
        "id": "ywVus7HK_KEl",
        "colab_type": "text"
      },
      "source": [
        "Training/Test Loss/Accuracy During Training"
      ]
    },
    {
      "cell_type": "code",
      "metadata": {
        "id": "nTmfNlyP_NXe",
        "colab_type": "code",
        "colab": {}
      },
      "source": [
        "history_dict = history.history\n",
        "loss_values = history_dict['loss']\n",
        "test_loss_values = history_dict['val_loss']\n",
        "epochs_range = range(1, epochs+1)"
      ],
      "execution_count": 0,
      "outputs": []
    },
    {
      "cell_type": "code",
      "metadata": {
        "id": "SDMinCKG_PCG",
        "colab_type": "code",
        "colab": {
          "base_uri": "https://localhost:8080/",
          "height": 295
        },
        "outputId": "4bfe1d84-b730-4be2-91fc-01499fba3f58"
      },
      "source": [
        "plt.plot(epochs_range, loss_values, 'bo', label='Training loss')\n",
        "plt.plot(epochs_range, test_loss_values, 'ro', label='Test loss')\n",
        "plt.title('Training and test loss')\n",
        "plt.xlabel('Epochs')\n",
        "plt.ylabel('Loss')\n",
        "plt.legend()\n",
        "plt.show()"
      ],
      "execution_count": 22,
      "outputs": [
        {
          "output_type": "display_data",
          "data": {
            "image/png": "[encoded data removed]",
            "text/plain": [
              "<Figure size 432x288 with 1 Axes>"
            ]
          },
          "metadata": {
            "tags": []
          }
        }
      ]
    },
    {
      "cell_type": "code",
      "metadata": {
        "id": "NRMEc_Cl_Q6-",
        "colab_type": "code",
        "colab": {}
      },
      "source": [
        "acc_values = history_dict['acc']\n",
        "test_acc_values = history_dict['val_acc']"
      ],
      "execution_count": 0,
      "outputs": []
    },
    {
      "cell_type": "code",
      "metadata": {
        "id": "Q-5dnvPE_Svx",
        "colab_type": "code",
        "colab": {
          "base_uri": "https://localhost:8080/",
          "height": 295
        },
        "outputId": "38ebb9ee-c29a-4f9e-eea3-960a65ebfcee"
      },
      "source": [
        "plt.plot(epochs_range, acc_values, 'bo', label='Training accuracy')\n",
        "plt.plot(epochs_range, test_acc_values, 'ro', label='Test accuracy')\n",
        "plt.title('Training and test accuracy')\n",
        "plt.xlabel('Epochs')\n",
        "plt.ylabel('Accuracy')\n",
        "plt.legend()\n",
        "plt.show()"
      ],
      "execution_count": 24,
      "outputs": [
        {
          "output_type": "display_data",
          "data": {
            "image/png": "[encoded data removed]",
            "text/plain": [
              "<Figure size 432x288 with 1 Axes>"
            ]
          },
          "metadata": {
            "tags": []
          }
        }
      ]
    },
    {
      "cell_type": "markdown",
      "metadata": {
        "id": "kGmUbBVY8wCe",
        "colab_type": "text"
      },
      "source": [
        "Pretty Good Model"
      ]
    },
    {
      "cell_type": "markdown",
      "metadata": {
        "id": "CwYRldA8_YPL",
        "colab_type": "text"
      },
      "source": [
        "Build the Model"
      ]
    },
    {
      "cell_type": "code",
      "metadata": {
        "id": "yuvjUev3_ZoF",
        "colab_type": "code",
        "colab": {
          "base_uri": "https://localhost:8080/",
          "height": 734
        },
        "outputId": "5ffffe27-5617-4a22-d3f8-7d6eb529e6bb"
      },
      "source": [
        "# set up the layers\n",
        "\n",
        "model = keras.Sequential([\n",
        "    keras.layers.Flatten(input_shape=(28, 28)),\n",
        "    keras.layers.Dense(128, activation=tf.nn.relu),\n",
        "    keras.layers.Dropout(0.5),\n",
        "    keras.layers.Dense(10, activation=tf.nn.softmax)\n",
        "])\n",
        "\n",
        "# compile the model\n",
        "\n",
        "model.compile(optimizer='adam',\n",
        "             loss='sparse_categorical_crossentropy',\n",
        "             metrics=['accuracy'])\n",
        "\n",
        "# train the model\n",
        "epochs = 20\n",
        "history = model.fit(train_images, \n",
        "                      train_labels, \n",
        "                      epochs=epochs,  \n",
        "                      validation_data=(test_images, test_labels))"
      ],
      "execution_count": 25,
      "outputs": [
        {
          "output_type": "stream",
          "text": [
            "Train on 60000 samples, validate on 10000 samples\n",
            "Epoch 1/20\n",
            "60000/60000 [==============================] - 5s 86us/sample - loss: 0.6109 - acc: 0.7829 - val_loss: 0.4475 - val_acc: 0.8365\n",
            "Epoch 2/20\n",
            "60000/60000 [==============================] - 5s 83us/sample - loss: 0.4705 - acc: 0.8311 - val_loss: 0.4117 - val_acc: 0.8507\n",
            "Epoch 3/20\n",
            "60000/60000 [==============================] - 5s 81us/sample - loss: 0.4363 - acc: 0.8415 - val_loss: 0.4030 - val_acc: 0.8507\n",
            "Epoch 4/20\n",
            "60000/60000 [==============================] - 5s 81us/sample - loss: 0.4170 - acc: 0.8478 - val_loss: 0.3898 - val_acc: 0.8578\n",
            "Epoch 5/20\n",
            "60000/60000 [==============================] - 5s 82us/sample - loss: 0.4056 - acc: 0.8528 - val_loss: 0.3779 - val_acc: 0.8636\n",
            "Epoch 6/20\n",
            "60000/60000 [==============================] - 5s 82us/sample - loss: 0.3931 - acc: 0.8564 - val_loss: 0.3704 - val_acc: 0.8686\n",
            "Epoch 7/20\n",
            "60000/60000 [==============================] - 5s 77us/sample - loss: 0.3818 - acc: 0.8610 - val_loss: 0.3694 - val_acc: 0.8679\n",
            "Epoch 8/20\n",
            "60000/60000 [==============================] - 5s 75us/sample - loss: 0.3738 - acc: 0.8627 - val_loss: 0.3711 - val_acc: 0.8618\n",
            "Epoch 9/20\n",
            "60000/60000 [==============================] - 5s 80us/sample - loss: 0.3680 - acc: 0.8670 - val_loss: 0.3614 - val_acc: 0.8712\n",
            "Epoch 10/20\n",
            "60000/60000 [==============================] - 5s 77us/sample - loss: 0.3607 - acc: 0.8666 - val_loss: 0.3620 - val_acc: 0.8727\n",
            "Epoch 11/20\n",
            "60000/60000 [==============================] - 5s 77us/sample - loss: 0.3579 - acc: 0.8690 - val_loss: 0.3584 - val_acc: 0.8740\n",
            "Epoch 12/20\n",
            "60000/60000 [==============================] - 5s 77us/sample - loss: 0.3546 - acc: 0.8677 - val_loss: 0.3610 - val_acc: 0.8728\n",
            "Epoch 13/20\n",
            "60000/60000 [==============================] - 5s 77us/sample - loss: 0.3486 - acc: 0.8711 - val_loss: 0.3576 - val_acc: 0.8723\n",
            "Epoch 14/20\n",
            "60000/60000 [==============================] - 5s 76us/sample - loss: 0.3431 - acc: 0.8722 - val_loss: 0.3560 - val_acc: 0.8705\n",
            "Epoch 15/20\n",
            "60000/60000 [==============================] - 5s 77us/sample - loss: 0.3388 - acc: 0.8744 - val_loss: 0.3508 - val_acc: 0.8762\n",
            "Epoch 16/20\n",
            "60000/60000 [==============================] - 5s 77us/sample - loss: 0.3397 - acc: 0.8748 - val_loss: 0.3521 - val_acc: 0.8780\n",
            "Epoch 17/20\n",
            "60000/60000 [==============================] - 5s 76us/sample - loss: 0.3357 - acc: 0.8754 - val_loss: 0.3476 - val_acc: 0.8811\n",
            "Epoch 18/20\n",
            "60000/60000 [==============================] - 4s 75us/sample - loss: 0.3349 - acc: 0.8761 - val_loss: 0.3446 - val_acc: 0.8800\n",
            "Epoch 19/20\n",
            "60000/60000 [==============================] - 4s 75us/sample - loss: 0.3295 - acc: 0.8773 - val_loss: 0.3449 - val_acc: 0.8789\n",
            "Epoch 20/20\n",
            "60000/60000 [==============================] - 5s 75us/sample - loss: 0.3263 - acc: 0.8782 - val_loss: 0.3480 - val_acc: 0.8796\n"
          ],
          "name": "stdout"
        }
      ]
    },
    {
      "cell_type": "markdown",
      "metadata": {
        "id": "HMo6p6ku_bPa",
        "colab_type": "text"
      },
      "source": [
        "Evaluate Accuracy"
      ]
    },
    {
      "cell_type": "code",
      "metadata": {
        "id": "2nPG27QP_c9R",
        "colab_type": "code",
        "colab": {
          "base_uri": "https://localhost:8080/",
          "height": 51
        },
        "outputId": "52986936-1825-49ff-fe37-cb1b480eb0d0"
      },
      "source": [
        "test_loss, test_acc = model.evaluate(test_images, test_labels)\n",
        "\n",
        "print('Test accuracy:', test_acc)"
      ],
      "execution_count": 26,
      "outputs": [
        {
          "output_type": "stream",
          "text": [
            "10000/10000 [==============================] - 0s 30us/sample - loss: 0.3480 - acc: 0.8796\n",
            "Test accuracy: 0.8796\n"
          ],
          "name": "stdout"
        }
      ]
    },
    {
      "cell_type": "markdown",
      "metadata": {
        "id": "G4XvZA-I_ec8",
        "colab_type": "text"
      },
      "source": [
        "Training/Test Loss/Accuracy During Training"
      ]
    },
    {
      "cell_type": "code",
      "metadata": {
        "id": "-1V7ekAA_iRO",
        "colab_type": "code",
        "colab": {}
      },
      "source": [
        "history_dict = history.history\n",
        "loss_values = history_dict['loss']\n",
        "test_loss_values = history_dict['val_loss']\n",
        "epochs_range = range(1, epochs+1)"
      ],
      "execution_count": 0,
      "outputs": []
    },
    {
      "cell_type": "code",
      "metadata": {
        "id": "PhzLT95S_jX8",
        "colab_type": "code",
        "colab": {
          "base_uri": "https://localhost:8080/",
          "height": 295
        },
        "outputId": "a641f9db-6e0f-48dd-9817-db38a7382f82"
      },
      "source": [
        "plt.plot(epochs_range, loss_values, 'bo', label='Training loss')\n",
        "plt.plot(epochs_range, test_loss_values, 'ro', label='Test loss')\n",
        "plt.title('Training and test loss')\n",
        "plt.xlabel('Epochs')\n",
        "plt.ylabel('Loss')\n",
        "plt.legend()\n",
        "plt.show()"
      ],
      "execution_count": 28,
      "outputs": [
        {
          "output_type": "display_data",
          "data": {
            "image/png": "[encoded data removed]",
            "text/plain": [
              "<Figure size 432x288 with 1 Axes>"
            ]
          },
          "metadata": {
            "tags": []
          }
        }
      ]
    },
    {
      "cell_type": "code",
      "metadata": {
        "id": "-kSaXxMO_j7U",
        "colab_type": "code",
        "colab": {}
      },
      "source": [
        "acc_values = history_dict['acc']\n",
        "test_acc_values = history_dict['val_acc']"
      ],
      "execution_count": 0,
      "outputs": []
    },
    {
      "cell_type": "code",
      "metadata": {
        "id": "YzQNYZfk_lVk",
        "colab_type": "code",
        "colab": {
          "base_uri": "https://localhost:8080/",
          "height": 295
        },
        "outputId": "d93da653-82e9-4787-b178-0238e370c9fa"
      },
      "source": [
        "plt.plot(epochs_range, acc_values, 'bo', label='Training accuracy')\n",
        "plt.plot(epochs_range, test_acc_values, 'ro', label='Test accuracy')\n",
        "plt.title('Training and test accuracy')\n",
        "plt.xlabel('Epochs')\n",
        "plt.ylabel('Accuracy')\n",
        "plt.legend()\n",
        "plt.show()"
      ],
      "execution_count": 30,
      "outputs": [
        {
          "output_type": "display_data",
          "data": {
            "image/png": "[encoded data removed]",
            "text/plain": [
              "<Figure size 432x288 with 1 Axes>"
            ]
          },
          "metadata": {
            "tags": []
          }
        }
      ]
    }
  ]
}