{
  "nbformat": 4,
  "nbformat_minor": 0,
  "metadata": {
    "colab": {
      "name": "HW2Problem3.ipynb",
      "provenance": [],
      "collapsed_sections": []
    },
    "kernelspec": {
      "name": "python3",
      "display_name": "Python 3"
    },
    "accelerator": "GPU"
  },
  "cells": [
    {
      "cell_type": "code",
      "metadata": {
        "id": "aURqh6ldSoW8",
        "colab_type": "code",
        "colab": {}
      },
      "source": [
        "import tensorflow as tf\n",
        "from tensorflow import keras\n",
        "import matplotlib.pyplot as plt\n",
        "import numpy as np\n",
        "from keras import models\n",
        "from keras import layers\n",
        "from keras import optimizers\n",
        "from keras import utils\n",
        "from keras.layers.convolutional import Conv2D\n",
        "from keras.datasets import cifar10\n",
        "\n",
        "(train_images, train_labels), (test_images, test_labels) = cifar10.load_data()"
      ],
      "execution_count": 0,
      "outputs": []
    },
    {
      "cell_type": "code",
      "metadata": {
        "id": "sD1yCWO4WtFi",
        "colab_type": "code",
        "colab": {}
      },
      "source": [
        "class_names = ['airplan', 'automobile', 'bird', 'cat', 'deer', 'dog', 'frog', 'horse', 'ship', 'truck']"
      ],
      "execution_count": 0,
      "outputs": []
    },
    {
      "cell_type": "code",
      "metadata": {
        "id": "40G0Cyw6acl1",
        "colab_type": "code",
        "colab": {}
      },
      "source": [
        "train_images = train_images / 255.0\n",
        "test_images = test_images / 255.0"
      ],
      "execution_count": 0,
      "outputs": []
    },
    {
      "cell_type": "code",
      "metadata": {
        "id": "Ty85LoQ6gNfN",
        "colab_type": "code",
        "colab": {}
      },
      "source": [
        "numclass = 10\n",
        "train_labels = keras.utils.to_categorical(train_labels, numclass)\n",
        "test_labels = keras.utils.to_categorical(test_labels, numclass)"
      ],
      "execution_count": 0,
      "outputs": []
    },
    {
      "cell_type": "markdown",
      "metadata": {
        "id": "MM3l8yn_g4YP",
        "colab_type": "text"
      },
      "source": [
        "Underfit Model"
      ]
    },
    {
      "cell_type": "code",
      "metadata": {
        "id": "kgX2E5HMg3_C",
        "colab_type": "code",
        "outputId": "13fc6775-d75e-4ad5-f696-3081e4625d6d",
        "colab": {
          "base_uri": "https://localhost:8080/",
          "height": 734
        }
      },
      "source": [
        "# set up the layers\n",
        "\n",
        "model = models.Sequential()\n",
        "model.add(layers.Conv2D(8, kernel_size=(20, 20), activation='relu', input_shape=(32, 32, 3)))\n",
        "model.add(layers.Dropout(0.75))\n",
        "model.add(layers.Flatten())\n",
        "model.add(layers.Dense(10, activation='softmax'))\n",
        "\n",
        "# compile the model\n",
        "\n",
        "model.compile(optimizer=optimizers.RMSprop(lr=1e-4),\n",
        "             loss='binary_crossentropy',\n",
        "             metrics=['accuracy'])\n",
        "\n",
        "# train the model\n",
        "epochs = 20\n",
        "history = model.fit(train_images, \n",
        "                      train_labels, \n",
        "                      epochs=epochs,  \n",
        "                      validation_data=(test_images, test_labels))"
      ],
      "execution_count": 0,
      "outputs": [
        {
          "output_type": "stream",
          "text": [
            "Train on 50000 samples, validate on 10000 samples\n",
            "Epoch 1/20\n",
            "50000/50000 [==============================] - 14s 277us/step - loss: 0.3076 - acc: 0.8998 - val_loss: 0.2880 - val_acc: 0.9003\n",
            "Epoch 2/20\n",
            "50000/50000 [==============================] - 11s 218us/step - loss: 0.2878 - acc: 0.8999 - val_loss: 0.2758 - val_acc: 0.9008\n",
            "Epoch 3/20\n",
            "50000/50000 [==============================] - 11s 219us/step - loss: 0.2790 - acc: 0.9004 - val_loss: 0.2665 - val_acc: 0.9019\n",
            "Epoch 4/20\n",
            "50000/50000 [==============================] - 11s 220us/step - loss: 0.2739 - acc: 0.9008 - val_loss: 0.2737 - val_acc: 0.9016\n",
            "Epoch 5/20\n",
            "50000/50000 [==============================] - 11s 221us/step - loss: 0.2701 - acc: 0.9014 - val_loss: 0.2687 - val_acc: 0.9017\n",
            "Epoch 6/20\n",
            "50000/50000 [==============================] - 11s 225us/step - loss: 0.2671 - acc: 0.9019 - val_loss: 0.2633 - val_acc: 0.9023\n",
            "Epoch 7/20\n",
            "50000/50000 [==============================] - 11s 221us/step - loss: 0.2649 - acc: 0.9022 - val_loss: 0.2624 - val_acc: 0.9024\n",
            "Epoch 8/20\n",
            "50000/50000 [==============================] - 11s 222us/step - loss: 0.2627 - acc: 0.9027 - val_loss: 0.2568 - val_acc: 0.9043\n",
            "Epoch 9/20\n",
            "50000/50000 [==============================] - 11s 219us/step - loss: 0.2609 - acc: 0.9032 - val_loss: 0.2502 - val_acc: 0.9046\n",
            "Epoch 10/20\n",
            "50000/50000 [==============================] - 11s 218us/step - loss: 0.2591 - acc: 0.9036 - val_loss: 0.2500 - val_acc: 0.9056\n",
            "Epoch 11/20\n",
            "50000/50000 [==============================] - 11s 221us/step - loss: 0.2580 - acc: 0.9038 - val_loss: 0.2531 - val_acc: 0.9045\n",
            "Epoch 12/20\n",
            "50000/50000 [==============================] - 11s 222us/step - loss: 0.2566 - acc: 0.9043 - val_loss: 0.2475 - val_acc: 0.9050\n",
            "Epoch 13/20\n",
            "50000/50000 [==============================] - 11s 218us/step - loss: 0.2554 - acc: 0.9047 - val_loss: 0.2571 - val_acc: 0.9052\n",
            "Epoch 14/20\n",
            "50000/50000 [==============================] - 11s 226us/step - loss: 0.2549 - acc: 0.9046 - val_loss: 0.2486 - val_acc: 0.9056\n",
            "Epoch 15/20\n",
            "50000/50000 [==============================] - 11s 220us/step - loss: 0.2545 - acc: 0.9049 - val_loss: 0.2451 - val_acc: 0.9060\n",
            "Epoch 16/20\n",
            "50000/50000 [==============================] - 11s 219us/step - loss: 0.2538 - acc: 0.9049 - val_loss: 0.2563 - val_acc: 0.9055\n",
            "Epoch 17/20\n",
            "50000/50000 [==============================] - 11s 219us/step - loss: 0.2533 - acc: 0.9052 - val_loss: 0.2475 - val_acc: 0.9065\n",
            "Epoch 18/20\n",
            "50000/50000 [==============================] - 11s 219us/step - loss: 0.2533 - acc: 0.9051 - val_loss: 0.2467 - val_acc: 0.9061\n",
            "Epoch 19/20\n",
            "50000/50000 [==============================] - 11s 216us/step - loss: 0.2528 - acc: 0.9055 - val_loss: 0.2519 - val_acc: 0.9065\n",
            "Epoch 20/20\n",
            "50000/50000 [==============================] - 11s 218us/step - loss: 0.2525 - acc: 0.9054 - val_loss: 0.2453 - val_acc: 0.9061\n"
          ],
          "name": "stdout"
        }
      ]
    },
    {
      "cell_type": "code",
      "metadata": {
        "id": "JjySrNsrnr39",
        "colab_type": "code",
        "outputId": "53972e21-86fe-41c9-b263-7d7af604f002",
        "colab": {
          "base_uri": "https://localhost:8080/",
          "height": 51
        }
      },
      "source": [
        "test_loss, test_acc = model.evaluate(test_images, test_labels)\n",
        "\n",
        "print('Test accuracy:', test_acc)"
      ],
      "execution_count": 0,
      "outputs": [
        {
          "output_type": "stream",
          "text": [
            "10000/10000 [==============================] - 1s 106us/step\n",
            "Test accuracy: 0.9061399755477906\n"
          ],
          "name": "stdout"
        }
      ]
    },
    {
      "cell_type": "code",
      "metadata": {
        "id": "032WA1EFnsUm",
        "colab_type": "code",
        "colab": {}
      },
      "source": [
        "history_dict = history.history\n",
        "loss_values = history_dict['loss']\n",
        "test_loss_values = history_dict['val_loss']\n",
        "epochs_range = range(1, epochs+1)"
      ],
      "execution_count": 0,
      "outputs": []
    },
    {
      "cell_type": "code",
      "metadata": {
        "id": "mI-UcwUCnuzD",
        "colab_type": "code",
        "outputId": "8744d53a-2177-4cf5-dc60-1a7d96630b7d",
        "colab": {
          "base_uri": "https://localhost:8080/",
          "height": 295
        }
      },
      "source": [
        "plt.plot(epochs_range, loss_values, 'bo', label='Training loss')\n",
        "plt.plot(epochs_range, test_loss_values, 'ro', label='Test loss')\n",
        "plt.title('Training and test loss')\n",
        "plt.xlabel('Epochs')\n",
        "plt.ylabel('Loss')\n",
        "plt.legend()\n",
        "plt.show()"
      ],
      "execution_count": 0,
      "outputs": [
        {
          "output_type": "display_data",
          "data": {
            "image/png": "[encoded data removed]",
            "text/plain": [
              "<Figure size 432x288 with 1 Axes>"
            ]
          },
          "metadata": {
            "tags": []
          }
        }
      ]
    },
    {
      "cell_type": "code",
      "metadata": {
        "id": "zfk4_zcNn3Vg",
        "colab_type": "code",
        "colab": {}
      },
      "source": [
        "acc_values = history_dict['acc']\n",
        "test_acc_values = history_dict['val_acc']"
      ],
      "execution_count": 0,
      "outputs": []
    },
    {
      "cell_type": "code",
      "metadata": {
        "id": "in-55LuMn4nQ",
        "colab_type": "code",
        "outputId": "f4a81abc-003f-444e-a8ea-701896214167",
        "colab": {
          "base_uri": "https://localhost:8080/",
          "height": 295
        }
      },
      "source": [
        "plt.plot(epochs_range, acc_values, 'bo', label='Training accuracy')\n",
        "plt.plot(epochs_range, test_acc_values, 'ro', label='Test accuracy')\n",
        "plt.title('Training and test accuracy')\n",
        "plt.xlabel('Epochs')\n",
        "plt.ylabel('Accuracy')\n",
        "plt.legend()\n",
        "plt.show()"
      ],
      "execution_count": 0,
      "outputs": [
        {
          "output_type": "display_data",
          "data": {
            "image/png": "[encoded data removed]",
            "text/plain": [
              "<Figure size 432x288 with 1 Axes>"
            ]
          },
          "metadata": {
            "tags": []
          }
        }
      ]
    },
    {
      "cell_type": "markdown",
      "metadata": {
        "id": "_sa4QUQIg8Mf",
        "colab_type": "text"
      },
      "source": [
        "Overfit Model"
      ]
    },
    {
      "cell_type": "code",
      "metadata": {
        "id": "q3NRReFmPwwa",
        "colab_type": "code",
        "outputId": "105df73b-5c3b-42e2-fb0c-27856b6c923f",
        "colab": {
          "base_uri": "https://localhost:8080/",
          "height": 734
        }
      },
      "source": [
        "# set up the layers\n",
        "\n",
        "model = models.Sequential()\n",
        "model.add(layers.Conv2D(32, kernel_size=(5, 5), activation='relu', input_shape=(32, 32, 3)))\n",
        "model.add(layers.Conv2D(32, kernel_size=(5, 5), activation='relu'))\n",
        "model.add(layers.Conv2D(32, kernel_size=(5, 5), activation='relu'))\n",
        "model.add(layers.Flatten())\n",
        "model.add(layers.Dense(32, activation='relu'))\n",
        "model.add(layers.Dense(10, activation='softmax'))\n",
        "\n",
        "# compile the model\n",
        "\n",
        "model.compile(optimizer=optimizers.RMSprop(lr=1e-4),\n",
        "             loss='binary_crossentropy',\n",
        "             metrics=['accuracy'])\n",
        "\n",
        "# train the model\n",
        "epochs = 20\n",
        "history = model.fit(train_images, \n",
        "                      train_labels, \n",
        "                      epochs=epochs,  \n",
        "                      validation_data=(test_images, test_labels))"
      ],
      "execution_count": 0,
      "outputs": [
        {
          "output_type": "stream",
          "text": [
            "Train on 50000 samples, validate on 10000 samples\n",
            "Epoch 1/20\n",
            "50000/50000 [==============================] - 23s 460us/step - loss: 0.2643 - acc: 0.9038 - val_loss: 0.2389 - val_acc: 0.9078\n",
            "Epoch 2/20\n",
            "50000/50000 [==============================] - 20s 401us/step - loss: 0.2269 - acc: 0.9125 - val_loss: 0.2234 - val_acc: 0.9153\n",
            "Epoch 3/20\n",
            "50000/50000 [==============================] - 20s 400us/step - loss: 0.2102 - acc: 0.9186 - val_loss: 0.2070 - val_acc: 0.9204\n",
            "Epoch 4/20\n",
            "50000/50000 [==============================] - 20s 402us/step - loss: 0.1970 - acc: 0.9236 - val_loss: 0.1947 - val_acc: 0.9240\n",
            "Epoch 5/20\n",
            "50000/50000 [==============================] - 20s 398us/step - loss: 0.1868 - acc: 0.9277 - val_loss: 0.2012 - val_acc: 0.9230\n",
            "Epoch 6/20\n",
            "50000/50000 [==============================] - 20s 401us/step - loss: 0.1784 - acc: 0.9308 - val_loss: 0.1869 - val_acc: 0.9270\n",
            "Epoch 7/20\n",
            "50000/50000 [==============================] - 20s 401us/step - loss: 0.1715 - acc: 0.9335 - val_loss: 0.1745 - val_acc: 0.9329\n",
            "Epoch 8/20\n",
            "50000/50000 [==============================] - 20s 401us/step - loss: 0.1658 - acc: 0.9357 - val_loss: 0.1785 - val_acc: 0.9307\n",
            "Epoch 9/20\n",
            "50000/50000 [==============================] - 20s 401us/step - loss: 0.1610 - acc: 0.9379 - val_loss: 0.1766 - val_acc: 0.9322\n",
            "Epoch 10/20\n",
            "50000/50000 [==============================] - 20s 400us/step - loss: 0.1564 - acc: 0.9396 - val_loss: 0.1728 - val_acc: 0.9327\n",
            "Epoch 11/20\n",
            "50000/50000 [==============================] - 20s 404us/step - loss: 0.1523 - acc: 0.9412 - val_loss: 0.1667 - val_acc: 0.9352\n",
            "Epoch 12/20\n",
            "50000/50000 [==============================] - 21s 410us/step - loss: 0.1485 - acc: 0.9428 - val_loss: 0.1670 - val_acc: 0.9356\n",
            "Epoch 13/20\n",
            "50000/50000 [==============================] - 20s 401us/step - loss: 0.1450 - acc: 0.9440 - val_loss: 0.1737 - val_acc: 0.9328\n",
            "Epoch 14/20\n",
            "50000/50000 [==============================] - 20s 400us/step - loss: 0.1414 - acc: 0.9458 - val_loss: 0.1623 - val_acc: 0.9367\n",
            "Epoch 15/20\n",
            "50000/50000 [==============================] - 20s 402us/step - loss: 0.1383 - acc: 0.9468 - val_loss: 0.1655 - val_acc: 0.9376\n",
            "Epoch 16/20\n",
            "50000/50000 [==============================] - 20s 401us/step - loss: 0.1351 - acc: 0.9480 - val_loss: 0.1631 - val_acc: 0.9376\n",
            "Epoch 17/20\n",
            "50000/50000 [==============================] - 20s 400us/step - loss: 0.1320 - acc: 0.9496 - val_loss: 0.1560 - val_acc: 0.9395\n",
            "Epoch 18/20\n",
            "50000/50000 [==============================] - 20s 402us/step - loss: 0.1287 - acc: 0.9512 - val_loss: 0.1569 - val_acc: 0.9398\n",
            "Epoch 19/20\n",
            "50000/50000 [==============================] - 20s 400us/step - loss: 0.1257 - acc: 0.9518 - val_loss: 0.1557 - val_acc: 0.9400\n",
            "Epoch 20/20\n",
            "50000/50000 [==============================] - 20s 400us/step - loss: 0.1227 - acc: 0.9531 - val_loss: 0.1538 - val_acc: 0.9419\n"
          ],
          "name": "stdout"
        }
      ]
    },
    {
      "cell_type": "code",
      "metadata": {
        "id": "KhSfPe79PziM",
        "colab_type": "code",
        "outputId": "eb9032e2-dbeb-4a20-a749-fbdbdd970343",
        "colab": {
          "base_uri": "https://localhost:8080/",
          "height": 51
        }
      },
      "source": [
        "test_loss, test_acc = model.evaluate(test_images, test_labels)\n",
        "\n",
        "print('Test accuracy:', test_acc)"
      ],
      "execution_count": 0,
      "outputs": [
        {
          "output_type": "stream",
          "text": [
            "10000/10000 [==============================] - 2s 155us/step\n",
            "Test accuracy: 0.941869992351532\n"
          ],
          "name": "stdout"
        }
      ]
    },
    {
      "cell_type": "code",
      "metadata": {
        "id": "Lse18Q4NP1J7",
        "colab_type": "code",
        "colab": {}
      },
      "source": [
        "history_dict = history.history\n",
        "loss_values = history_dict['loss']\n",
        "test_loss_values = history_dict['val_loss']\n",
        "epochs_range = range(1, epochs+1)"
      ],
      "execution_count": 0,
      "outputs": []
    },
    {
      "cell_type": "code",
      "metadata": {
        "id": "ILkNY7_RP2s2",
        "colab_type": "code",
        "outputId": "6f655264-a4bd-40d8-ba47-cf1803af6e6c",
        "colab": {
          "base_uri": "https://localhost:8080/",
          "height": 295
        }
      },
      "source": [
        "plt.plot(epochs_range, loss_values, 'bo', label='Training loss')\n",
        "plt.plot(epochs_range, test_loss_values, 'ro', label='Test loss')\n",
        "plt.title('Training and test loss')\n",
        "plt.xlabel('Epochs')\n",
        "plt.ylabel('Loss')\n",
        "plt.legend()\n",
        "plt.show()"
      ],
      "execution_count": 0,
      "outputs": [
        {
          "output_type": "display_data",
          "data": {
            "image/png": "[encoded data removed]",
            "text/plain": [
              "<Figure size 432x288 with 1 Axes>"
            ]
          },
          "metadata": {
            "tags": []
          }
        }
      ]
    },
    {
      "cell_type": "code",
      "metadata": {
        "id": "TZH_A-f8P4HO",
        "colab_type": "code",
        "colab": {}
      },
      "source": [
        "acc_values = history_dict['acc']\n",
        "test_acc_values = history_dict['val_acc']"
      ],
      "execution_count": 0,
      "outputs": []
    },
    {
      "cell_type": "code",
      "metadata": {
        "id": "74oOfKVnP5eh",
        "colab_type": "code",
        "outputId": "a349bc7f-6f2f-43d2-f0c3-4c714bdd3f55",
        "colab": {
          "base_uri": "https://localhost:8080/",
          "height": 295
        }
      },
      "source": [
        "plt.plot(epochs_range, acc_values, 'bo', label='Training accuracy')\n",
        "plt.plot(epochs_range, test_acc_values, 'ro', label='Test accuracy')\n",
        "plt.title('Training and test accuracy')\n",
        "plt.xlabel('Epochs')\n",
        "plt.ylabel('Accuracy')\n",
        "plt.legend()\n",
        "plt.show()"
      ],
      "execution_count": 0,
      "outputs": [
        {
          "output_type": "display_data",
          "data": {
            "image/png": "[encoded data removed]",
            "text/plain": [
              "<Figure size 432x288 with 1 Axes>"
            ]
          },
          "metadata": {
            "tags": []
          }
        }
      ]
    },
    {
      "cell_type": "markdown",
      "metadata": {
        "id": "MiX7vpOkg9xi",
        "colab_type": "text"
      },
      "source": [
        "Pretty Good Model"
      ]
    },
    {
      "cell_type": "code",
      "metadata": {
        "id": "0DKJzt-vQrNm",
        "colab_type": "code",
        "outputId": "1c12bc73-f9ec-4422-f11e-ee17c2532593",
        "colab": {
          "base_uri": "https://localhost:8080/",
          "height": 734
        }
      },
      "source": [
        "# set up the layers\n",
        "\n",
        "model = models.Sequential()\n",
        "model.add(layers.Conv2D(64, (5, 5), activation='relu', input_shape=(32, 32, 3)))\n",
        "model.add(layers.Conv2D(32, (5, 5), activation='relu'))\n",
        "model.add(layers.Dropout(0.5))\n",
        "model.add(layers.Conv2D(32, (5, 5), activation='relu'))\n",
        "model.add(layers.Conv2D(32, (5, 5), activation='relu'))\n",
        "model.add(layers.Dropout(0.5))\n",
        "model.add(layers.Conv2D(64, (5, 5), activation='relu'))\n",
        "model.add(layers.Conv2D(64, (5, 5), activation='relu'))\n",
        "model.add(layers.Flatten())\n",
        "model.add(layers.Dense(32, activation='relu'))\n",
        "model.add(layers.Dropout(0.5))\n",
        "model.add(layers.Dense(10, activation='softmax'))\n",
        "\n",
        "# compile the model\n",
        "\n",
        "model.compile(optimizer=optimizers.RMSprop(lr=1e-4),\n",
        "             loss='binary_crossentropy',\n",
        "             metrics=['accuracy'])\n",
        "\n",
        "# train the model\n",
        "epochs = 20\n",
        "history = model.fit(train_images, \n",
        "                      train_labels, \n",
        "                      epochs=epochs,  \n",
        "                      validation_data=(test_images, test_labels))"
      ],
      "execution_count": 0,
      "outputs": [
        {
          "output_type": "stream",
          "text": [
            "Train on 50000 samples, validate on 10000 samples\n",
            "Epoch 1/20\n",
            "50000/50000 [==============================] - 35s 706us/step - loss: 0.3033 - acc: 0.8997 - val_loss: 0.2833 - val_acc: 0.9009\n",
            "Epoch 2/20\n",
            "50000/50000 [==============================] - 32s 638us/step - loss: 0.2800 - acc: 0.9011 - val_loss: 0.2529 - val_acc: 0.9036\n",
            "Epoch 3/20\n",
            "50000/50000 [==============================] - 31s 627us/step - loss: 0.2624 - acc: 0.9044 - val_loss: 0.2311 - val_acc: 0.9113\n",
            "Epoch 4/20\n",
            "50000/50000 [==============================] - 31s 625us/step - loss: 0.2482 - acc: 0.9084 - val_loss: 0.2193 - val_acc: 0.9155\n",
            "Epoch 5/20\n",
            "50000/50000 [==============================] - 32s 631us/step - loss: 0.2376 - acc: 0.9117 - val_loss: 0.2235 - val_acc: 0.9147\n",
            "Epoch 6/20\n",
            "50000/50000 [==============================] - 31s 625us/step - loss: 0.2283 - acc: 0.9147 - val_loss: 0.2105 - val_acc: 0.9193\n",
            "Epoch 7/20\n",
            "50000/50000 [==============================] - 31s 626us/step - loss: 0.2212 - acc: 0.9174 - val_loss: 0.1969 - val_acc: 0.9250\n",
            "Epoch 8/20\n",
            "50000/50000 [==============================] - 31s 623us/step - loss: 0.2144 - acc: 0.9198 - val_loss: 0.1966 - val_acc: 0.9255\n",
            "Epoch 9/20\n",
            "50000/50000 [==============================] - 31s 625us/step - loss: 0.2106 - acc: 0.9210 - val_loss: 0.2084 - val_acc: 0.9219\n",
            "Epoch 10/20\n",
            "50000/50000 [==============================] - 31s 627us/step - loss: 0.2045 - acc: 0.9234 - val_loss: 0.1826 - val_acc: 0.9293\n",
            "Epoch 11/20\n",
            "50000/50000 [==============================] - 31s 625us/step - loss: 0.2016 - acc: 0.9242 - val_loss: 0.1805 - val_acc: 0.9301\n",
            "Epoch 12/20\n",
            "50000/50000 [==============================] - 31s 625us/step - loss: 0.1988 - acc: 0.9257 - val_loss: 0.1874 - val_acc: 0.9303\n",
            "Epoch 13/20\n",
            "50000/50000 [==============================] - 31s 625us/step - loss: 0.1974 - acc: 0.9258 - val_loss: 0.1846 - val_acc: 0.9324\n",
            "Epoch 14/20\n",
            "50000/50000 [==============================] - 31s 628us/step - loss: 0.1949 - acc: 0.9273 - val_loss: 0.1763 - val_acc: 0.9335\n",
            "Epoch 15/20\n",
            "50000/50000 [==============================] - 31s 622us/step - loss: 0.1934 - acc: 0.9275 - val_loss: 0.1888 - val_acc: 0.9313\n",
            "Epoch 16/20\n",
            "50000/50000 [==============================] - 31s 616us/step - loss: 0.1915 - acc: 0.9284 - val_loss: 0.2152 - val_acc: 0.9255\n",
            "Epoch 17/20\n",
            "50000/50000 [==============================] - 31s 616us/step - loss: 0.1907 - acc: 0.9288 - val_loss: 0.1716 - val_acc: 0.9348\n",
            "Epoch 18/20\n",
            "50000/50000 [==============================] - 31s 616us/step - loss: 0.1904 - acc: 0.9287 - val_loss: 0.1758 - val_acc: 0.9336\n",
            "Epoch 19/20\n",
            "50000/50000 [==============================] - 31s 617us/step - loss: 0.1892 - acc: 0.9294 - val_loss: 0.1789 - val_acc: 0.9355\n",
            "Epoch 20/20\n",
            "50000/50000 [==============================] - 31s 617us/step - loss: 0.1889 - acc: 0.9299 - val_loss: 0.2290 - val_acc: 0.9176\n"
          ],
          "name": "stdout"
        }
      ]
    },
    {
      "cell_type": "code",
      "metadata": {
        "id": "NCUFNUBaQrwL",
        "colab_type": "code",
        "outputId": "ae49bca4-b2ac-4256-9875-f013e65891fc",
        "colab": {
          "base_uri": "https://localhost:8080/",
          "height": 51
        }
      },
      "source": [
        "test_loss, test_acc = model.evaluate(test_images, test_labels)\n",
        "\n",
        "print('Test accuracy:', test_acc)"
      ],
      "execution_count": 0,
      "outputs": [
        {
          "output_type": "stream",
          "text": [
            "10000/10000 [==============================] - 2s 207us/step\n",
            "Test accuracy: 0.9176399856567383\n"
          ],
          "name": "stdout"
        }
      ]
    },
    {
      "cell_type": "code",
      "metadata": {
        "id": "YySZrvmYQuIy",
        "colab_type": "code",
        "colab": {}
      },
      "source": [
        "history_dict = history.history\n",
        "loss_values = history_dict['loss']\n",
        "test_loss_values = history_dict['val_loss']\n",
        "epochs_range = range(1, epochs+1)"
      ],
      "execution_count": 0,
      "outputs": []
    },
    {
      "cell_type": "code",
      "metadata": {
        "id": "BcfKmr5nQvUW",
        "colab_type": "code",
        "outputId": "595a10f4-176d-4b68-e904-17d88b25de56",
        "colab": {
          "base_uri": "https://localhost:8080/",
          "height": 295
        }
      },
      "source": [
        "plt.plot(epochs_range, loss_values, 'bo', label='Training loss')\n",
        "plt.plot(epochs_range, test_loss_values, 'ro', label='Test loss')\n",
        "plt.title('Training and test loss')\n",
        "plt.xlabel('Epochs')\n",
        "plt.ylabel('Loss')\n",
        "plt.legend()\n",
        "plt.show()"
      ],
      "execution_count": 0,
      "outputs": [
        {
          "output_type": "display_data",
          "data": {
            "image/png": "[encoded data removed]",
            "text/plain": [
              "<Figure size 432x288 with 1 Axes>"
            ]
          },
          "metadata": {
            "tags": []
          }
        }
      ]
    },
    {
      "cell_type": "code",
      "metadata": {
        "id": "cGIWxEWnQwbn",
        "colab_type": "code",
        "colab": {}
      },
      "source": [
        "acc_values = history_dict['acc']\n",
        "test_acc_values = history_dict['val_acc']"
      ],
      "execution_count": 0,
      "outputs": []
    },
    {
      "cell_type": "code",
      "metadata": {
        "id": "cbjDAlSuQxfa",
        "colab_type": "code",
        "outputId": "a3ad5ea9-5f22-48e1-bc2a-9aeef0d011a4",
        "colab": {
          "base_uri": "https://localhost:8080/",
          "height": 295
        }
      },
      "source": [
        "plt.plot(epochs_range, acc_values, 'bo', label='Training accuracy')\n",
        "plt.plot(epochs_range, test_acc_values, 'ro', label='Test accuracy')\n",
        "plt.title('Training and test accuracy')\n",
        "plt.xlabel('Epochs')\n",
        "plt.ylabel('Accuracy')\n",
        "plt.legend()\n",
        "plt.show()"
      ],
      "execution_count": 0,
      "outputs": [
        {
          "output_type": "display_data",
          "data": {
            "image/png": "[encoded data removed]",
            "text/plain": [
              "<Figure size 432x288 with 1 Axes>"
            ]
          },
          "metadata": {
            "tags": []
          }
        }
      ]
    }
  ]
}