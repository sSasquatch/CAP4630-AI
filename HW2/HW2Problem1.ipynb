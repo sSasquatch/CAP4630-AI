{
  "nbformat": 4,
  "nbformat_minor": 0,
  "metadata": {
    "colab": {
      "name": "HW2Problem1.ipynb",
      "provenance": []
    },
    "kernelspec": {
      "name": "python3",
      "display_name": "Python 3"
    }
  },
  "cells": [
    {
      "cell_type": "markdown",
      "metadata": {
        "id": "MMtAMVXUSKjp",
        "colab_type": "text"
      },
      "source": [
        "Loading the Image Data\n"
      ]
    },
    {
      "cell_type": "code",
      "metadata": {
        "id": "_cVOvd1SR1DV",
        "colab_type": "code",
        "colab": {
          "base_uri": "https://localhost:8080/",
          "height": 131
        },
        "outputId": "40bf3c4a-b165-478b-db8a-17fa194c3101"
      },
      "source": [
        "import numpy as np\n",
        "import matplotlib.pyplot as plt\n",
        "from keras.datasets import mnist\n",
        "\n",
        "(train_images_original, train_labels_original), (test_images_original, test_labels_original) = mnist.load_data()"
      ],
      "execution_count": 1,
      "outputs": [
        {
          "output_type": "stream",
          "text": [
            "Using TensorFlow backend.\n"
          ],
          "name": "stderr"
        },
        {
          "output_type": "display_data",
          "data": {
            "text/html": [
              "<p style=\"color: red;\">\n",
              "The default version of TensorFlow in Colab will soon switch to TensorFlow 2.x.<br>\n",
              "We recommend you <a href=\"https://www.tensorflow.org/guide/migrate\" target=\"_blank\">upgrade</a> now \n",
              "or ensure your notebook will continue to use TensorFlow 1.x via the <code>%tensorflow_version 1.x</code> magic:\n",
              "<a href=\"https://colab.research.google.com/notebooks/tensorflow_version.ipynb\" target=\"_blank\">more info</a>.</p>\n"
            ],
            "text/plain": [
              "<IPython.core.display.HTML object>"
            ]
          },
          "metadata": {
            "tags": []
          }
        },
        {
          "output_type": "stream",
          "text": [
            "Downloading data from https://s3.amazonaws.com/img-datasets/mnist.npz\n",
            "11493376/11490434 [==============================] - 2s 0us/step\n"
          ],
          "name": "stdout"
        }
      ]
    },
    {
      "cell_type": "markdown",
      "metadata": {
        "id": "DXfP8uhlSPJ7",
        "colab_type": "text"
      },
      "source": [
        "Preparing the Image Data"
      ]
    },
    {
      "cell_type": "code",
      "metadata": {
        "id": "6vmvAFkOSN_w",
        "colab_type": "code",
        "colab": {}
      },
      "source": [
        "train_images = train_images_original.reshape((60000, 28, 28))\n",
        "train_images = train_images.astype('float64') / 255\n",
        "\n",
        "test_images = test_images_original.reshape((10000, 28, 28))\n",
        "test_images = test_images.astype('float64') / 255\n",
        "\n",
        "avgfeatures = np.zeros((1, 28), dtype='float64')\n",
        "train_features = np.zeros((60000, 29), dtype='float64')\n",
        "test_features = np.zeros((10000, 29), dtype='float64')\n",
        "heights = np.zeros((1, 2), dtype='float64')\n",
        "height = np.zeros((1, 1), dtype='float64')"
      ],
      "execution_count": 0,
      "outputs": []
    },
    {
      "cell_type": "code",
      "metadata": {
        "id": "fGXOmw3_VRJx",
        "colab_type": "code",
        "colab": {}
      },
      "source": [
        "currindex = 0\n",
        "found = False\n",
        "\n",
        "for i in train_images:\n",
        "  avg_features = np.mean(i, axis = 0) + np.mean(i, axis = 1)\n",
        "  \n",
        "  for j in range(28):\n",
        "    for k in range(28):\n",
        "      if(i[j][k] == 0):\n",
        "        continue\n",
        "      else:\n",
        "        heights[0][0] = j\n",
        "        found = True\n",
        "        break\n",
        "    if(found):\n",
        "      found = False\n",
        "      break\n",
        "  \n",
        "  for j in reversed(range(28)):\n",
        "    for k in reversed(range(28)):\n",
        "      if(i[j][k] == 0):\n",
        "        continue\n",
        "      else:\n",
        "        heights[0][1] = j\n",
        "        found = True\n",
        "        break\n",
        "    if(found):\n",
        "      found = False\n",
        "      break\n",
        "\n",
        "  height[0][0] = heights[0][1] - heights[0][0] + 1\n",
        "  temparr = np.concatenate((avg_features, height), axis = None)\n",
        "  train_features[currindex] = temparr\n",
        "  heights[0][0] = 0\n",
        "  heights[0][1] = 0\n",
        "  currindex = currindex + 1"
      ],
      "execution_count": 0,
      "outputs": []
    },
    {
      "cell_type": "code",
      "metadata": {
        "id": "BDL2CKVOXhR0",
        "colab_type": "code",
        "colab": {}
      },
      "source": [
        "currindex = 0\n",
        "found = False\n",
        "\n",
        "for i in test_images:\n",
        "  avg_features = np.mean(i, axis = 0) + np.mean(i, axis = 1)\n",
        "  \n",
        "  for j in range(28):\n",
        "    for k in range(28):\n",
        "      if(i[j][k] == 0):\n",
        "        continue\n",
        "      else:\n",
        "        heights[0][0] = j\n",
        "        found = True\n",
        "        break\n",
        "    if(found):\n",
        "      found = False\n",
        "      break\n",
        "  \n",
        "  for j in reversed(range(28)):\n",
        "    for k in reversed(range(28)):\n",
        "      if(i[j][k] == 0):\n",
        "        continue\n",
        "      else:\n",
        "        heights[0][1] = j\n",
        "        found = True\n",
        "        break\n",
        "    if(found):\n",
        "      found = False\n",
        "      break\n",
        "\n",
        "  height[0][0] = heights[0][1] - heights[0][0] + 1\n",
        "  temparr = np.concatenate((avg_features, height), axis = None)\n",
        "  test_features[currindex] = temparr\n",
        "  heights[0][0] = 0\n",
        "  heights[0][1] = 0\n",
        "  currindex = currindex + 1"
      ],
      "execution_count": 0,
      "outputs": []
    },
    {
      "cell_type": "markdown",
      "metadata": {
        "id": "BwWg3wODX3Rz",
        "colab_type": "text"
      },
      "source": [
        "Preparing the Labels"
      ]
    },
    {
      "cell_type": "code",
      "metadata": {
        "id": "qYeYPAF6X40g",
        "colab_type": "code",
        "colab": {}
      },
      "source": [
        "from keras.utils import to_categorical\n",
        "\n",
        "train_labels = to_categorical(train_labels_original)\n",
        "test_labels = to_categorical(test_labels_original)"
      ],
      "execution_count": 0,
      "outputs": []
    },
    {
      "cell_type": "markdown",
      "metadata": {
        "id": "jHpbfPhiX7ET",
        "colab_type": "text"
      },
      "source": [
        "The Network Architecture"
      ]
    },
    {
      "cell_type": "code",
      "metadata": {
        "id": "tZWpfyZLX9QX",
        "colab_type": "code",
        "colab": {
          "base_uri": "https://localhost:8080/",
          "height": 343
        },
        "outputId": "b14f4089-d480-4b31-e63c-0ac417b86dbf"
      },
      "source": [
        "from keras import models\n",
        "from keras import layers\n",
        "\n",
        "network = models.Sequential()\n",
        "network.add(layers.Dense(512, activation='relu', input_shape=(29,)))\n",
        "network.add(layers.Dense(10, activation='softmax'))\n",
        "network.summary()"
      ],
      "execution_count": 6,
      "outputs": [
        {
          "output_type": "stream",
          "text": [
            "WARNING:tensorflow:From /usr/local/lib/python3.6/dist-packages/keras/backend/tensorflow_backend.py:66: The name tf.get_default_graph is deprecated. Please use tf.compat.v1.get_default_graph instead.\n",
            "\n",
            "WARNING:tensorflow:From /usr/local/lib/python3.6/dist-packages/keras/backend/tensorflow_backend.py:541: The name tf.placeholder is deprecated. Please use tf.compat.v1.placeholder instead.\n",
            "\n",
            "WARNING:tensorflow:From /usr/local/lib/python3.6/dist-packages/keras/backend/tensorflow_backend.py:4432: The name tf.random_uniform is deprecated. Please use tf.random.uniform instead.\n",
            "\n",
            "Model: \"sequential_1\"\n",
            "_________________________________________________________________\n",
            "Layer (type)                 Output Shape              Param #   \n",
            "=================================================================\n",
            "dense_1 (Dense)              (None, 512)               15360     \n",
            "_________________________________________________________________\n",
            "dense_2 (Dense)              (None, 10)                5130      \n",
            "=================================================================\n",
            "Total params: 20,490\n",
            "Trainable params: 20,490\n",
            "Non-trainable params: 0\n",
            "_________________________________________________________________\n"
          ],
          "name": "stdout"
        }
      ]
    },
    {
      "cell_type": "markdown",
      "metadata": {
        "id": "zcaigpogYECL",
        "colab_type": "text"
      },
      "source": [
        "The Compilation Step"
      ]
    },
    {
      "cell_type": "code",
      "metadata": {
        "id": "lJx2c7lAYGwM",
        "colab_type": "code",
        "colab": {
          "base_uri": "https://localhost:8080/",
          "height": 105
        },
        "outputId": "09ab42b9-40fe-4c8b-a6ce-b7d92459c334"
      },
      "source": [
        "network.compile(optimizer='rmsprop',\n",
        "                loss='categorical_crossentropy',\n",
        "                metrics=['accuracy'])"
      ],
      "execution_count": 7,
      "outputs": [
        {
          "output_type": "stream",
          "text": [
            "WARNING:tensorflow:From /usr/local/lib/python3.6/dist-packages/keras/optimizers.py:793: The name tf.train.Optimizer is deprecated. Please use tf.compat.v1.train.Optimizer instead.\n",
            "\n",
            "WARNING:tensorflow:From /usr/local/lib/python3.6/dist-packages/keras/backend/tensorflow_backend.py:3576: The name tf.log is deprecated. Please use tf.math.log instead.\n",
            "\n"
          ],
          "name": "stdout"
        }
      ]
    },
    {
      "cell_type": "markdown",
      "metadata": {
        "id": "AEyzWUxDYJAy",
        "colab_type": "text"
      },
      "source": [
        "The Training Step"
      ]
    },
    {
      "cell_type": "code",
      "metadata": {
        "id": "NLloZrYJYIpp",
        "colab_type": "code",
        "colab": {
          "base_uri": "https://localhost:8080/",
          "height": 1000
        },
        "outputId": "2d1ace79-e0c7-4472-9876-700ffa2e04ad"
      },
      "source": [
        "epochs = 20\n",
        "history = network.fit(train_features, \n",
        "                      train_labels, \n",
        "                      epochs=epochs, \n",
        "                      batch_size=128, \n",
        "                      validation_data=(test_features, test_labels))"
      ],
      "execution_count": 8,
      "outputs": [
        {
          "output_type": "stream",
          "text": [
            "WARNING:tensorflow:From /usr/local/lib/python3.6/dist-packages/tensorflow_core/python/ops/math_grad.py:1424: where (from tensorflow.python.ops.array_ops) is deprecated and will be removed in a future version.\n",
            "Instructions for updating:\n",
            "Use tf.where in 2.0, which has the same broadcast rule as np.where\n",
            "WARNING:tensorflow:From /usr/local/lib/python3.6/dist-packages/keras/backend/tensorflow_backend.py:1033: The name tf.assign_add is deprecated. Please use tf.compat.v1.assign_add instead.\n",
            "\n",
            "WARNING:tensorflow:From /usr/local/lib/python3.6/dist-packages/keras/backend/tensorflow_backend.py:1020: The name tf.assign is deprecated. Please use tf.compat.v1.assign instead.\n",
            "\n",
            "WARNING:tensorflow:From /usr/local/lib/python3.6/dist-packages/keras/backend/tensorflow_backend.py:3005: The name tf.Session is deprecated. Please use tf.compat.v1.Session instead.\n",
            "\n",
            "Train on 60000 samples, validate on 10000 samples\n",
            "Epoch 1/20\n",
            "WARNING:tensorflow:From /usr/local/lib/python3.6/dist-packages/keras/backend/tensorflow_backend.py:190: The name tf.get_default_session is deprecated. Please use tf.compat.v1.get_default_session instead.\n",
            "\n",
            "WARNING:tensorflow:From /usr/local/lib/python3.6/dist-packages/keras/backend/tensorflow_backend.py:197: The name tf.ConfigProto is deprecated. Please use tf.compat.v1.ConfigProto instead.\n",
            "\n",
            "WARNING:tensorflow:From /usr/local/lib/python3.6/dist-packages/keras/backend/tensorflow_backend.py:207: The name tf.global_variables is deprecated. Please use tf.compat.v1.global_variables instead.\n",
            "\n",
            "WARNING:tensorflow:From /usr/local/lib/python3.6/dist-packages/keras/backend/tensorflow_backend.py:216: The name tf.is_variable_initialized is deprecated. Please use tf.compat.v1.is_variable_initialized instead.\n",
            "\n",
            "WARNING:tensorflow:From /usr/local/lib/python3.6/dist-packages/keras/backend/tensorflow_backend.py:223: The name tf.variables_initializer is deprecated. Please use tf.compat.v1.variables_initializer instead.\n",
            "\n",
            "60000/60000 [==============================] - 2s 32us/step - loss: 1.5777 - acc: 0.4801 - val_loss: 1.2199 - val_acc: 0.6043\n",
            "Epoch 2/20\n",
            "60000/60000 [==============================] - 1s 18us/step - loss: 1.1761 - acc: 0.6132 - val_loss: 1.1384 - val_acc: 0.6230\n",
            "Epoch 3/20\n",
            "60000/60000 [==============================] - 1s 18us/step - loss: 1.1031 - acc: 0.6400 - val_loss: 1.0636 - val_acc: 0.6408\n",
            "Epoch 4/20\n",
            "60000/60000 [==============================] - 1s 18us/step - loss: 1.0530 - acc: 0.6541 - val_loss: 1.0192 - val_acc: 0.6572\n",
            "Epoch 5/20\n",
            "60000/60000 [==============================] - 1s 18us/step - loss: 1.0098 - acc: 0.6666 - val_loss: 0.9821 - val_acc: 0.6768\n",
            "Epoch 6/20\n",
            "60000/60000 [==============================] - 1s 18us/step - loss: 0.9692 - acc: 0.6815 - val_loss: 0.9584 - val_acc: 0.6882\n",
            "Epoch 7/20\n",
            "60000/60000 [==============================] - 1s 18us/step - loss: 0.9332 - acc: 0.6921 - val_loss: 0.9092 - val_acc: 0.6989\n",
            "Epoch 8/20\n",
            "60000/60000 [==============================] - 1s 18us/step - loss: 0.9022 - acc: 0.7003 - val_loss: 0.9076 - val_acc: 0.7046\n",
            "Epoch 9/20\n",
            "60000/60000 [==============================] - 1s 17us/step - loss: 0.8776 - acc: 0.7095 - val_loss: 0.8807 - val_acc: 0.7108\n",
            "Epoch 10/20\n",
            "60000/60000 [==============================] - 1s 19us/step - loss: 0.8549 - acc: 0.7173 - val_loss: 0.8465 - val_acc: 0.7238\n",
            "Epoch 11/20\n",
            "60000/60000 [==============================] - 1s 19us/step - loss: 0.8382 - acc: 0.7225 - val_loss: 0.8498 - val_acc: 0.7229\n",
            "Epoch 12/20\n",
            "60000/60000 [==============================] - 1s 19us/step - loss: 0.8232 - acc: 0.7281 - val_loss: 0.8125 - val_acc: 0.7330\n",
            "Epoch 13/20\n",
            "60000/60000 [==============================] - 1s 18us/step - loss: 0.8088 - acc: 0.7322 - val_loss: 0.8086 - val_acc: 0.7295\n",
            "Epoch 14/20\n",
            "60000/60000 [==============================] - 1s 18us/step - loss: 0.7982 - acc: 0.7371 - val_loss: 0.7892 - val_acc: 0.7356\n",
            "Epoch 15/20\n",
            "60000/60000 [==============================] - 1s 20us/step - loss: 0.7861 - acc: 0.7407 - val_loss: 0.8174 - val_acc: 0.7243\n",
            "Epoch 16/20\n",
            "60000/60000 [==============================] - 1s 19us/step - loss: 0.7786 - acc: 0.7442 - val_loss: 0.7825 - val_acc: 0.7347\n",
            "Epoch 17/20\n",
            "60000/60000 [==============================] - 1s 18us/step - loss: 0.7709 - acc: 0.7467 - val_loss: 0.7613 - val_acc: 0.7492\n",
            "Epoch 18/20\n",
            "60000/60000 [==============================] - 1s 18us/step - loss: 0.7625 - acc: 0.7494 - val_loss: 0.7718 - val_acc: 0.7412\n",
            "Epoch 19/20\n",
            "60000/60000 [==============================] - 1s 18us/step - loss: 0.7565 - acc: 0.7520 - val_loss: 0.7580 - val_acc: 0.7491\n",
            "Epoch 20/20\n",
            "60000/60000 [==============================] - 1s 19us/step - loss: 0.7488 - acc: 0.7540 - val_loss: 0.7470 - val_acc: 0.7529\n"
          ],
          "name": "stdout"
        }
      ]
    },
    {
      "cell_type": "markdown",
      "metadata": {
        "id": "d7eABf1yYN9q",
        "colab_type": "text"
      },
      "source": [
        "Display the Training/Test Loss/Accuracy"
      ]
    },
    {
      "cell_type": "code",
      "metadata": {
        "id": "LZxQo3dLYRB4",
        "colab_type": "code",
        "colab": {}
      },
      "source": [
        "history_dict = history.history\n",
        "loss_values = history_dict['loss']\n",
        "test_loss_values = history_dict['val_loss']\n",
        "epochs_range = range(1, epochs + 1)"
      ],
      "execution_count": 0,
      "outputs": []
    },
    {
      "cell_type": "code",
      "metadata": {
        "id": "SsluBV3GYTTt",
        "colab_type": "code",
        "colab": {
          "base_uri": "https://localhost:8080/",
          "height": 295
        },
        "outputId": "54797cf5-4cf5-4c08-91c3-27ddc1c77e1d"
      },
      "source": [
        "plt.plot(epochs_range, loss_values, 'bo', label='Training loss')\n",
        "plt.plot(epochs_range, test_loss_values, 'ro', label='Test loss')\n",
        "plt.title('Training and test loss')\n",
        "plt.xlabel('Epochs')\n",
        "plt.ylabel('Loss')\n",
        "plt.legend()\n",
        "plt.show()"
      ],
      "execution_count": 10,
      "outputs": [
        {
          "output_type": "display_data",
          "data": {
            "image/png": "[encoded data removed]",
            "text/plain": [
              "<Figure size 432x288 with 1 Axes>"
            ]
          },
          "metadata": {
            "tags": []
          }
        }
      ]
    },
    {
      "cell_type": "code",
      "metadata": {
        "id": "qrLI76wuYVZf",
        "colab_type": "code",
        "colab": {}
      },
      "source": [
        "acc_values = history_dict['acc']\n",
        "test_acc_values = history_dict['val_acc']"
      ],
      "execution_count": 0,
      "outputs": []
    },
    {
      "cell_type": "code",
      "metadata": {
        "id": "IsLMxqK1YW-P",
        "colab_type": "code",
        "colab": {
          "base_uri": "https://localhost:8080/",
          "height": 295
        },
        "outputId": "fadc8650-4fcd-445c-d26b-86ee58f2df36"
      },
      "source": [
        "plt.plot(epochs_range, acc_values, 'bo', label='Training accuracy')\n",
        "plt.plot(epochs_range, test_acc_values, 'ro', label='Test accuracy')\n",
        "plt.title('Training and test accuracy')\n",
        "plt.xlabel('Epochs')\n",
        "plt.ylabel('Accuracy')\n",
        "plt.legend()\n",
        "plt.show()"
      ],
      "execution_count": 12,
      "outputs": [
        {
          "output_type": "display_data",
          "data": {
            "image/png": "[encoded data removed]",
            "text/plain": [
              "<Figure size 432x288 with 1 Axes>"
            ]
          },
          "metadata": {
            "tags": []
          }
        }
      ]
    }
  ]
}